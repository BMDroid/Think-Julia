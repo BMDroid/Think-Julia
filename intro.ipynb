{
 "cells": [
  {
   "cell_type": "code",
   "execution_count": 2,
   "metadata": {
    "ExecuteTime": {
     "end_time": "2020-12-21T12:09:08.131000+08:00",
     "start_time": "2020-12-21T04:08:38.708Z"
    }
   },
   "outputs": [],
   "source": [
    "using JuMP, CPLEX, Gurobi"
   ]
  },
  {
   "cell_type": "code",
   "execution_count": 2,
   "metadata": {
    "ExecuteTime": {
     "end_time": "2020-12-02T06:55:44.741000+08:00",
     "start_time": "2020-12-01T22:55:38.220Z"
    }
   },
   "outputs": [
    {
     "name": "stdout",
     "output_type": "stream",
     "text": [
      "Max 5 x + 3 y\n",
      "Subject to\n",
      " x + 5 y <= 3.0\n",
      " x <= 2.0\n",
      " y <= 30.0\n",
      " x >= 0.0\n",
      " y >= 0.0\n",
      "Version identifier: 12.10.0.0 | 2019-11-26 | 843d4de2ae\n",
      "Tried aggregator 1 time.\n",
      "LP Presolve eliminated 1 rows and 2 columns.\n",
      "All rows and columns eliminated.\n",
      "Presolve time = 0.00 sec. (0.00 ticks)\n",
      "Objective value: 10.600000000000001\n",
      "x = 2.0\n",
      "y = 0.2\n"
     ]
    }
   ],
   "source": [
    "m = direct_model(CPLEX.Optimizer())\n",
    "\n",
    "@variable(m, 0 <= x <= 2 )\n",
    "@variable(m, 0 <= y <= 30 )\n",
    "\n",
    "@objective(m, Max, 5x + 3*y )\n",
    "\n",
    "@constraint(m, 1x + 5y <= 3.0 )\n",
    "\n",
    "print(m)\n",
    "optimize!(m)\n",
    "\n",
    "println(\"Objective value: \", getobjectivevalue(m))\n",
    "println(\"x = \", getvalue(x))\n",
    "println(\"y = \", getvalue(y))"
   ]
  },
  {
   "cell_type": "code",
   "execution_count": 3,
   "metadata": {
    "ExecuteTime": {
     "end_time": "2020-12-02T06:55:48.189000+08:00",
     "start_time": "2020-12-01T22:55:46.598Z"
    }
   },
   "outputs": [
    {
     "name": "stdout",
     "output_type": "stream",
     "text": [
      "Academic license - for non-commercial use only - expires 2021-01-29\n",
      "Max 5 x + 3 y\n",
      "Subject to\n",
      " x + 5 y <= 3.0\n",
      " x <= 2.0\n",
      " y <= 30.0\n",
      " x >= 0.0\n",
      " y >= 0.0\n",
      "Gurobi Optimizer version 9.1.0 build v9.1.0rc0 (win64)\n",
      "Thread count: 6 physical cores, 12 logical processors, using up to 12 threads\n",
      "Optimize a model with 1 rows, 2 columns and 2 nonzeros\n",
      "Model fingerprint: 0xa62c9e92\n",
      "Coefficient statistics:\n",
      "  Matrix range     [1e+00, 5e+00]\n",
      "  Objective range  [3e+00, 5e+00]\n",
      "  Bounds range     [2e+00, 3e+01]\n",
      "  RHS range        [3e+00, 3e+00]\n",
      "Presolve removed 1 rows and 2 columns\n",
      "Presolve time: 0.00s\n",
      "Presolve: All rows and columns removed\n",
      "Iteration    Objective       Primal Inf.    Dual Inf.      Time\n",
      "       0    1.0600000e+01   0.000000e+00   0.000000e+00      0s\n",
      "\n",
      "Solved in 0 iterations and 0.00 seconds\n",
      "Optimal objective  1.060000000e+01\n",
      "\n",
      "User-callback calls 28, time in user-callback 0.00 sec\n",
      "Objective value: 10.6\n",
      "x = 2.0\n",
      "y = 0.2\n"
     ]
    }
   ],
   "source": [
    "m1 = direct_model(Gurobi.Optimizer())\n",
    "\n",
    "@variable(m1, 0 <= x <= 2 )\n",
    "@variable(m1, 0 <= y <= 30 )\n",
    "\n",
    "@objective(m1, Max, 5x + 3*y )\n",
    "\n",
    "@constraint(m1, 1x + 5y <= 3.0 )\n",
    "\n",
    "print(m1)\n",
    "optimize!(m1)\n",
    "\n",
    "println(\"Objective value: \", getobjectivevalue(m1))\n",
    "println(\"x = \", getvalue(x))\n",
    "println(\"y = \", getvalue(y))"
   ]
  },
  {
   "cell_type": "code",
   "execution_count": 6,
   "metadata": {
    "ExecuteTime": {
     "end_time": "2020-12-02T07:04:03.747000+08:00",
     "start_time": "2020-12-01T23:04:03.663Z"
    }
   },
   "outputs": [
    {
     "name": "stdout",
     "output_type": "stream",
     "text": [
      "Max x1 + 2 x2 + 5 x3\n",
      "Subject to\n",
      " constraint1 : -x1 + x2 + 3 x3 <= -5.0\n",
      " constraint2 : x1 + 3 x2 - 7 x3 <= 10.0\n",
      " x1 <= 10.0\n",
      " x1 >= 0.0\n",
      " x2 >= 0.0\n",
      " x3 >= 0.0\n",
      "Version identifier: 12.10.0.0 | 2019-11-26 | 843d4de2ae\r\n",
      "Tried aggregator 1 time.\r\n",
      "No LP presolve or aggregator reductions.\r\n",
      "Presolve time = 0.00 sec. (0.00 ticks)\r\n",
      "\r\n",
      "Iteration log . . .\r\n",
      "Iteration:     1   Dual infeasibility =             0.000000\r\n",
      "Iteration:     2   Dual objective     =            19.062500\r\n",
      "Optimal Solutions:\n",
      "x1 = 10.0\n",
      "x2 = 2.1875\n",
      "x3 = 0.9375\n"
     ]
    }
   ],
   "source": [
    "# m = direct_model(Gurobi.Optimizer())\n",
    "m = direct_model(CPLEX.Optimizer())\n",
    "\n",
    "# Declaring variables\n",
    "@variable(m, 0<= x1 <=10)\n",
    "@variable(m, x2 >=0)\n",
    "@variable(m, x3 >=0)\n",
    "\n",
    "# Setting the objective\n",
    "@objective(m, Max, x1 + 2x2 + 5x3)\n",
    "\n",
    "# Adding constraints\n",
    "@constraint(m, constraint1, -x1 +  x2 + 3x3 <= -5)\n",
    "@constraint(m, constraint2,  x1 + 3x2 - 7x3 <= 10)\n",
    "\n",
    "# Printing the prepared optimization model\n",
    "print(m)\n",
    "\n",
    "# Solving the optimization problem\n",
    "optimize!(m)\n",
    "\n",
    "# Printing the optimal solutions obtained\n",
    "println(\"Optimal Solutions:\")\n",
    "println(\"x1 = \", getvalue(x1))\n",
    "println(\"x2 = \", getvalue(x2))\n",
    "println(\"x3 = \", getvalue(x3))"
   ]
  },
  {
   "cell_type": "code",
   "execution_count": 5,
   "metadata": {
    "ExecuteTime": {
     "end_time": "2020-12-21T12:27:18.696000+08:00",
     "start_time": "2020-12-21T04:27:18.201Z"
    }
   },
   "outputs": [
    {
     "name": "stdout",
     "output_type": "stream",
     "text": [
      "Min 20 x1 + 15 x2\n",
      "Subject to\n",
      " 0.3 x1 + 0.4 x2 >= 2.0\n",
      " 0.4 x1 + 0.2 x2 >= 1.5\n",
      " 0.2 x1 + 0.3 x2 >= 0.5\n",
      " x1 <= 9.0\n",
      " x2 <= 6.0\n",
      " x1 >= 0.0\n",
      " x2 >= 0.0\n",
      "Version identifier: 12.10.0.0 | 2019-11-26 | 843d4de2ae\r\n",
      "Tried aggregator 1 time.\r\n",
      "No LP presolve or aggregator reductions.\r\n",
      "Presolve time = 0.00 sec. (0.00 ticks)\r\n",
      "\r\n",
      "Iteration log . . .\r\n",
      "Iteration:     1   Dual objective     =            75.000000\r\n",
      "Objective value: 92.5\n",
      "x1 = 2.0\n",
      "x2 = 3.5\n"
     ]
    }
   ],
   "source": [
    "m = direct_model(CPLEX.Optimizer())\n",
    "\n",
    "@variable(m, 0 <= x1 <= 9)\n",
    "@variable(m, 0 <= x2 <= 6)\n",
    "\n",
    "@objective(m, Min, 20*x1 + 15*x2)\n",
    "\n",
    "@constraint(m, 0.3*x1 + 0.4*x2 >= 2.0)\n",
    "@constraint(m, 0.4*x1 + 0.2*x2 >= 1.5)\n",
    "@constraint(m, 0.2*x1 + 0.3*x2 >= 0.5)\n",
    "\n",
    "print(m)\n",
    "optimize!(m)\n",
    "\n",
    "println(\"Objective value: \", getobjectivevalue(m))\n",
    "println(\"x1 = \", getvalue(x1))\n",
    "println(\"x2 = \", getvalue(x2))"
   ]
  },
  {
   "cell_type": "code",
   "execution_count": null,
   "metadata": {},
   "outputs": [],
   "source": []
  }
 ],
 "metadata": {
  "kernelspec": {
   "display_name": "Julia 1.5.3",
   "language": "julia",
   "name": "julia-1.5"
  },
  "language_info": {
   "file_extension": ".jl",
   "mimetype": "application/julia",
   "name": "julia",
   "version": "1.5.3"
  },
  "toc": {
   "base_numbering": 1,
   "nav_menu": {},
   "number_sections": true,
   "sideBar": true,
   "skip_h1_title": false,
   "title_cell": "Table of Contents",
   "title_sidebar": "Contents",
   "toc_cell": false,
   "toc_position": {},
   "toc_section_display": true,
   "toc_window_display": false
  }
 },
 "nbformat": 4,
 "nbformat_minor": 4
}
